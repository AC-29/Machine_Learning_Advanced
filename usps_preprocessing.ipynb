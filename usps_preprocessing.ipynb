{
 "cells": [
  {
   "cell_type": "code",
   "execution_count": 66,
   "metadata": {},
   "outputs": [],
   "source": [
    "#USPS preprocessing\n",
    "\n",
    "import pandas as pd\n",
    "import numpy as np\n",
    "import pickle\n",
    "from sklearn.preprocessing import StandardScaler\n",
    "\n",
    "from sklearn.decomposition import PCA\n",
    "# time to import the data!\n",
    "df_usps_train = pd.read_csv('zip.train',delim_whitespace=True,header=None)\n",
    "df_usps_test = pd.read_csv('zip.test',delim_whitespace=True,header=None)"
   ]
  },
  {
   "cell_type": "code",
   "execution_count": 36,
   "metadata": {},
   "outputs": [
    {
     "name": "stdout",
     "output_type": "stream",
     "text": [
      "   0    1    2    3      4      5      6      7      8      9    ...    247  \\\n",
      "0  6.0 -1.0 -1.0 -1.0 -1.000 -1.000 -1.000 -1.000 -0.631  0.862  ...  0.304   \n",
      "1  5.0 -1.0 -1.0 -1.0 -0.813 -0.671 -0.809 -0.887 -0.671 -0.853  ... -0.671   \n",
      "2  4.0 -1.0 -1.0 -1.0 -1.000 -1.000 -1.000 -1.000 -1.000 -1.000  ... -1.000   \n",
      "3  7.0 -1.0 -1.0 -1.0 -1.000 -1.000 -0.273  0.684  0.960  0.450  ... -0.318   \n",
      "4  3.0 -1.0 -1.0 -1.0 -1.000 -1.000 -0.928 -0.204  0.751  0.466  ...  0.466   \n",
      "\n",
      "     248    249    250    251    252    253    254    255  256  \n",
      "0  0.823  1.000  0.482 -0.474 -0.991 -1.000 -1.000 -1.000 -1.0  \n",
      "1 -0.671 -0.033  0.761  0.762  0.126 -0.095 -0.671 -0.828 -1.0  \n",
      "2 -1.000 -1.000 -0.109  1.000 -0.179 -1.000 -1.000 -1.000 -1.0  \n",
      "3  1.000  0.536 -0.987 -1.000 -1.000 -1.000 -1.000 -1.000 -1.0  \n",
      "4  0.639  1.000  1.000  0.791  0.439 -0.199 -0.883 -1.000 -1.0  \n",
      "\n",
      "[5 rows x 257 columns]\n",
      "(7291, 257)\n",
      "(2007, 257)\n"
     ]
    }
   ],
   "source": [
    "#see the data a bit\n",
    "\n",
    "print(df_usps_train.head())\n",
    "print(df_usps_train.shape)\n",
    "print(df_usps_test.shape)"
   ]
  },
  {
   "cell_type": "code",
   "execution_count": 39,
   "metadata": {},
   "outputs": [
    {
     "name": "stdout",
     "output_type": "stream",
     "text": [
      "3051\n"
     ]
    }
   ],
   "source": [
    "#train on USPS\n",
    "#label data as -1 iff digit <=4, else 1\n",
    "df_usps_modified = df_usps_train.copy()\n",
    "for i in range(df_usps_modified.shape[0]):\n",
    "    if df_usps_modified.loc[i,0] <=4:\n",
    "        df_usps_modified.loc[i,0] = -1\n",
    "    else:\n",
    "        df_usps_modified.loc[i,0] = 1\n",
    "\n",
    "\n",
    "df_usps_modified_test = df_usps_test.copy()\n",
    "for i in range(df_usps_modified_test.shape[0]):\n",
    "    if df_usps_modified_test.loc[i,0] <=4:\n",
    "        df_usps_modified_test.loc[i,0] = -1\n",
    "    else:\n",
    "        df_usps_modified_test.loc[i,0] = 1\n",
    "#print(df_usps_modified)\n",
    "#print(df_usps_modified_test)\n",
    "print(len(df_usps_modified[df_usps_modified.loc[:,0]==1].index))"
   ]
  },
  {
   "cell_type": "code",
   "execution_count": 64,
   "metadata": {},
   "outputs": [
    {
     "name": "stdout",
     "output_type": "stream",
     "text": [
      "1000\n",
      "      0    1    2      3      4      5      6      7      8      9    ...  \\\n",
      "15    1.0 -1.0 -1.0 -1.000 -0.929  0.351  0.798  0.806  0.114  0.015  ...   \n",
      "6317  1.0 -1.0 -1.0 -1.000 -1.000 -1.000 -1.000 -1.000 -0.973  0.612  ...   \n",
      "6848  1.0 -1.0 -1.0 -1.000 -1.000 -1.000 -1.000 -1.000 -1.000 -0.531  ...   \n",
      "1510  1.0 -1.0 -1.0 -0.695  0.805  0.768 -0.826 -1.000 -1.000 -1.000  ...   \n",
      "2057  1.0 -1.0 -1.0 -1.000 -1.000 -0.812  0.300  0.952  1.000  0.956  ...   \n",
      "...   ...  ...  ...    ...    ...    ...    ...    ...    ...    ...  ...   \n",
      "2978 -1.0 -1.0 -1.0 -1.000 -1.000 -1.000 -1.000 -0.872 -0.010  0.592  ...   \n",
      "7126 -1.0 -1.0 -1.0 -1.000 -1.000 -1.000 -1.000 -1.000 -1.000 -1.000  ...   \n",
      "3713 -1.0 -1.0 -1.0 -1.000 -1.000 -1.000 -1.000 -0.943 -0.017  1.000  ...   \n",
      "1624 -1.0 -1.0 -1.0 -1.000 -1.000 -1.000 -0.999  0.384  0.975 -0.005  ...   \n",
      "4182 -1.0 -1.0 -1.0 -1.000 -1.000 -1.000 -1.000 -1.000 -1.000 -0.991  ...   \n",
      "\n",
      "        247    248    249    250    251    252  253  254  255  256  \n",
      "15    0.835 -0.086 -0.991 -1.000 -1.000 -1.000 -1.0 -1.0 -1.0 -1.0  \n",
      "6317  0.606 -0.004 -1.000 -1.000 -1.000 -1.000 -1.0 -1.0 -1.0 -1.0  \n",
      "6848 -0.049  0.704  1.000  0.801 -0.302 -1.000 -1.0 -1.0 -1.0 -1.0  \n",
      "1510 -0.505  0.906  0.617 -0.965 -1.000 -1.000 -1.0 -1.0 -1.0 -1.0  \n",
      "2057  0.307 -0.077 -1.000 -1.000 -1.000 -1.000 -1.0 -1.0 -1.0 -1.0  \n",
      "...     ...    ...    ...    ...    ...    ...  ...  ...  ...  ...  \n",
      "2978  1.000  1.000  0.638 -0.327 -0.961 -1.000 -1.0 -1.0 -1.0 -1.0  \n",
      "7126 -0.495  0.764 -0.639 -1.000 -1.000 -1.000 -1.0 -1.0 -1.0 -1.0  \n",
      "3713  0.527  1.000  0.519 -0.294 -1.000 -1.000 -1.0 -1.0 -1.0 -1.0  \n",
      "1624  0.111  0.846  0.904  0.500 -0.128 -0.998 -1.0 -1.0 -1.0 -1.0  \n",
      "4182 -0.146 -1.000 -1.000 -1.000 -1.000 -1.000 -1.0 -1.0 -1.0 -1.0  \n",
      "\n",
      "[2000 rows x 257 columns]\n"
     ]
    }
   ],
   "source": [
    "'''for i in range(1000):\n",
    "    seed_value=i\n",
    "    #sample 2000 from them\n",
    "    df_usps_sample = df_usps_modified.sample(2000,random_state=seed_value)\n",
    "\n",
    "    #print(df_usps_sample)\n",
    "    size = len(df_usps_sample[df_usps_sample.loc[:,0]==1].index)\n",
    "    #print(size)\n",
    "    if (np.abs(size-1000)<115):\n",
    "        print(seed_value)'''\n",
    "        \n",
    "seed_value=1\n",
    "df_usps_sample_A = df_usps_modified.loc[df_usps_modified.loc[:,0]==1].sample(1000,random_state=seed_value)\n",
    "df_usps_sample_B = df_usps_modified.loc[df_usps_modified.loc[:,0]==-1].sample(1000,random_state=seed_value)\n",
    "df_usps_sample = pd.concat([df_usps_sample_A,df_usps_sample_B])\n",
    "print(len(df_usps_sample[df_usps_sample.loc[:,0]==1].index))\n",
    "print(df_usps_sample)"
   ]
  },
  {
   "cell_type": "code",
   "execution_count": 65,
   "metadata": {},
   "outputs": [],
   "source": [
    "#method of partitioning data fram in 50*40\n",
    "def partition_dataframe(df):\n",
    "    result=[]\n",
    "    df_to_sample_from = df.copy()\n",
    "    for i in range(0,50):\n",
    "        train = df_to_sample_from.sample(40,random_state=seed_value)\n",
    "        remaining = df_to_sample_from.drop(train.index)\n",
    "        df_to_sample_from = remaining\n",
    "        result.append(train)\n",
    "    return result\n",
    "#store the sample\n",
    "partition = partition_dataframe(df_usps_sample)\n",
    "dataframe_file = [partition,df_usps_sample, df_usps_modified_test]\n",
    "with open('usbs_databases', 'wb') as fp:\n",
    "    pickle.dump(dataframe_file, fp)"
   ]
  },
  {
   "cell_type": "code",
   "execution_count": null,
   "metadata": {},
   "outputs": [],
   "source": []
  }
 ],
 "metadata": {
  "kernelspec": {
   "display_name": "Python 3",
   "language": "python",
   "name": "python3"
  },
  "language_info": {
   "codemirror_mode": {
    "name": "ipython",
    "version": 3
   },
   "file_extension": ".py",
   "mimetype": "text/x-python",
   "name": "python",
   "nbconvert_exporter": "python",
   "pygments_lexer": "ipython3",
   "version": "3.7.3"
  }
 },
 "nbformat": 4,
 "nbformat_minor": 2
}
