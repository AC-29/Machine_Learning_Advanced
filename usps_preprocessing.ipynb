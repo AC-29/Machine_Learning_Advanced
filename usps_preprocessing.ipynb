{
 "cells": [
  {
   "cell_type": "code",
   "execution_count": 99,
   "metadata": {},
   "outputs": [],
   "source": [
    "#USPS preprocessing\n",
    "\n",
    "import pandas as pd\n",
    "import numpy as np\n",
    "import pickle\n",
    "from sklearn.preprocessing import StandardScaler\n",
    "\n",
    "from sklearn.decomposition import PCA\n",
    "# time to import the data!\n",
    "df_usps_train = pd.read_csv('zip.train',delim_whitespace=True,header=None)\n",
    "df_usps_test = pd.read_csv('zip.test',delim_whitespace=True,header=None)"
   ]
  },
  {
   "cell_type": "code",
   "execution_count": 100,
   "metadata": {},
   "outputs": [
    {
     "name": "stdout",
     "output_type": "stream",
     "text": [
      "   0    1    2    3      4      5      6      7      8      9    ...    247  \\\n",
      "0  6.0 -1.0 -1.0 -1.0 -1.000 -1.000 -1.000 -1.000 -0.631  0.862  ...  0.304   \n",
      "1  5.0 -1.0 -1.0 -1.0 -0.813 -0.671 -0.809 -0.887 -0.671 -0.853  ... -0.671   \n",
      "2  4.0 -1.0 -1.0 -1.0 -1.000 -1.000 -1.000 -1.000 -1.000 -1.000  ... -1.000   \n",
      "3  7.0 -1.0 -1.0 -1.0 -1.000 -1.000 -0.273  0.684  0.960  0.450  ... -0.318   \n",
      "4  3.0 -1.0 -1.0 -1.0 -1.000 -1.000 -0.928 -0.204  0.751  0.466  ...  0.466   \n",
      "\n",
      "     248    249    250    251    252    253    254    255  256  \n",
      "0  0.823  1.000  0.482 -0.474 -0.991 -1.000 -1.000 -1.000 -1.0  \n",
      "1 -0.671 -0.033  0.761  0.762  0.126 -0.095 -0.671 -0.828 -1.0  \n",
      "2 -1.000 -1.000 -0.109  1.000 -0.179 -1.000 -1.000 -1.000 -1.0  \n",
      "3  1.000  0.536 -0.987 -1.000 -1.000 -1.000 -1.000 -1.000 -1.0  \n",
      "4  0.639  1.000  1.000  0.791  0.439 -0.199 -0.883 -1.000 -1.0  \n",
      "\n",
      "[5 rows x 257 columns]\n",
      "(7291, 257)\n",
      "(2007, 257)\n"
     ]
    }
   ],
   "source": [
    "#see the data a bit\n",
    "\n",
    "print(df_usps_train.head())\n",
    "print(df_usps_train.shape)\n",
    "print(df_usps_test.shape)"
   ]
  },
  {
   "cell_type": "code",
   "execution_count": 101,
   "metadata": {},
   "outputs": [
    {
     "name": "stdout",
     "output_type": "stream",
     "text": [
      "3051\n"
     ]
    }
   ],
   "source": [
    "#train on USPS\n",
    "#label data as -1 iff digit <=4, else 1\n",
    "df_usps_modified = df_usps_train.copy()\n",
    "df_usps_sample_0 = df_usps_modified.loc[df_usps_modified.loc[:,0]==0].sample(200,random_state=seed_value)\n",
    "df_usps_sample_1 = df_usps_modified.loc[df_usps_modified.loc[:,0]==1].sample(200,random_state=seed_value)\n",
    "df_usps_sample_2 = df_usps_modified.loc[df_usps_modified.loc[:,0]==2].sample(200,random_state=seed_value)\n",
    "df_usps_sample_3 = df_usps_modified.loc[df_usps_modified.loc[:,0]==3].sample(200,random_state=seed_value)\n",
    "df_usps_sample_4 = df_usps_modified.loc[df_usps_modified.loc[:,0]==4].sample(200,random_state=seed_value)\n",
    "df_usps_sample_5 = df_usps_modified.loc[df_usps_modified.loc[:,0]==5].sample(200,random_state=seed_value)\n",
    "df_usps_sample_6 = df_usps_modified.loc[df_usps_modified.loc[:,0]==6].sample(200,random_state=seed_value)\n",
    "df_usps_sample_7 = df_usps_modified.loc[df_usps_modified.loc[:,0]==7].sample(200,random_state=seed_value)\n",
    "df_usps_sample_8 = df_usps_modified.loc[df_usps_modified.loc[:,0]==8].sample(200,random_state=seed_value)\n",
    "df_usps_sample_9 = df_usps_modified.loc[df_usps_modified.loc[:,0]==9].sample(200,random_state=seed_value)\n",
    "\n",
    "df_usps_sample = pd.concat((df_usps_sample_0,df_usps_sample_1,df_usps_sample_2,df_usps_sample_3,df_usps_sample_4,df_usps_sample_5,df_usps_sample_6,df_usps_sample_7,df_usps_sample_8,df_usps_sample_9))\n",
    "\n",
    "for i in range(df_usps_modified.shape[0]):\n",
    "    if df_usps_modified.loc[i,0] <=4:\n",
    "        df_usps_modified.loc[i,0] = -1\n",
    "    else:\n",
    "        df_usps_modified.loc[i,0] = 1\n",
    "\n",
    "\n",
    "df_usps_modified_test = df_usps_test.copy()\n",
    "for i in range(df_usps_modified_test.shape[0]):\n",
    "    if df_usps_modified_test.loc[i,0] <=4:\n",
    "        df_usps_modified_test.loc[i,0] = -1\n",
    "    else:\n",
    "        df_usps_modified_test.loc[i,0] = 1\n",
    "#print(df_usps_modified)\n",
    "#print(df_usps_modified_test)\n",
    "print(len(df_usps_modified[df_usps_modified.loc[:,0]==1].index))"
   ]
  },
  {
   "cell_type": "code",
   "execution_count": 102,
   "metadata": {},
   "outputs": [
    {
     "data": {
      "text/plain": [
       "'for i in range(1000):\\n    seed_value=i\\n    #sample 2000 from them\\n    df_usps_sample = df_usps_modified.sample(2000,random_state=seed_value)\\n\\n    #print(df_usps_sample)\\n    size = len(df_usps_sample[df_usps_sample.loc[:,0]==1].index)\\n    #print(size)\\n    if (np.abs(size-1000)<115):\\n        print(seed_value)'"
      ]
     },
     "execution_count": 102,
     "metadata": {},
     "output_type": "execute_result"
    }
   ],
   "source": [
    "'''for i in range(1000):\n",
    "    seed_value=i\n",
    "    #sample 2000 from them\n",
    "    df_usps_sample = df_usps_modified.sample(2000,random_state=seed_value)\n",
    "\n",
    "    #print(df_usps_sample)\n",
    "    size = len(df_usps_sample[df_usps_sample.loc[:,0]==1].index)\n",
    "    #print(size)\n",
    "    if (np.abs(size-1000)<115):\n",
    "        print(seed_value)'''\n",
    "        \n",
    "#print(len(df_usps_sample[df_usps_sample.loc[:,0]==8].index))\n",
    "#print(df_usps_sample)"
   ]
  },
  {
   "cell_type": "code",
   "execution_count": 103,
   "metadata": {},
   "outputs": [],
   "source": [
    "#method of partitioning data fram in 50*40\n",
    "seed_value=83\n",
    "def partition_dataframe(df):\n",
    "    result=[]\n",
    "    df_to_sample_from = df.copy()\n",
    "    for i in range(0,50):\n",
    "        train0 = df_to_sample_from[df_to_sample_from.loc[:,0]==0].sample(4,random_state=seed_value)\n",
    "        train1 = df_to_sample_from[df_to_sample_from.loc[:,0]==1].sample(4,random_state=seed_value)\n",
    "        train2 = df_to_sample_from[df_to_sample_from.loc[:,0]==2].sample(4,random_state=seed_value)\n",
    "        train3 = df_to_sample_from[df_to_sample_from.loc[:,0]==3].sample(4,random_state=seed_value)\n",
    "        train4 = df_to_sample_from[df_to_sample_from.loc[:,0]==4].sample(4,random_state=seed_value)\n",
    "        train5 = df_to_sample_from[df_to_sample_from.loc[:,0]==5].sample(4,random_state=seed_value)\n",
    "        train6 = df_to_sample_from[df_to_sample_from.loc[:,0]==6].sample(4,random_state=seed_value)\n",
    "        train7 = df_to_sample_from[df_to_sample_from.loc[:,0]==7].sample(4,random_state=seed_value)\n",
    "        train8 = df_to_sample_from[df_to_sample_from.loc[:,0]==8].sample(4,random_state=seed_value)\n",
    "        train9 = df_to_sample_from[df_to_sample_from.loc[:,0]==9].sample(4,random_state=seed_value)\n",
    "        train = pd.concat((train0,train1,train2,train3,train4,train5,train6,train7,train8,train9))\n",
    "        remaining = df_to_sample_from.drop(train.index)\n",
    "        df_to_sample_from = remaining\n",
    "        result.append(train)\n",
    "    return result\n",
    "#store the sample\n",
    "partition = partition_dataframe(df_usps_sample)\n"
   ]
  },
  {
   "cell_type": "code",
   "execution_count": 104,
   "metadata": {},
   "outputs": [
    {
     "name": "stdout",
     "output_type": "stream",
     "text": [
      "      0    1    2      3      4      5      6      7      8      9    ...  \\\n",
      "7068  0.0 -1.0 -1.0 -1.000 -1.000 -1.000 -1.000 -1.000 -0.969  0.305  ...   \n",
      "370   0.0 -1.0 -1.0 -1.000 -1.000 -1.000 -1.000 -0.878 -0.074  0.977  ...   \n",
      "4751  0.0 -1.0 -1.0 -1.000 -0.951 -0.452  0.201  0.201  0.199 -0.469  ...   \n",
      "1852  0.0 -1.0 -1.0 -0.663 -0.263 -0.477 -1.000 -1.000 -1.000 -1.000  ...   \n",
      "3582  0.0 -1.0 -1.0 -1.000 -1.000 -1.000 -0.904 -0.004  0.291  0.967  ...   \n",
      "...   ...  ...  ...    ...    ...    ...    ...    ...    ...    ...  ...   \n",
      "1791  9.0 -1.0 -1.0 -1.000 -1.000 -1.000 -1.000 -0.477  0.813  1.000  ...   \n",
      "6728  9.0 -1.0 -1.0 -1.000 -1.000 -1.000 -1.000 -1.000 -0.939 -0.320  ...   \n",
      "2969  9.0 -1.0 -1.0 -1.000 -1.000 -1.000 -0.864 -0.043  0.544  0.759  ...   \n",
      "3448  9.0 -1.0 -1.0 -1.000 -1.000 -1.000 -1.000 -1.000 -0.870  0.520  ...   \n",
      "3381  9.0 -1.0 -1.0 -0.947 -0.362 -0.020  0.418  0.905  1.000  1.000  ...   \n",
      "\n",
      "        247    248    249    250    251    252  253  254  255  256  \n",
      "7068 -0.955 -0.092  0.841  0.697 -0.019 -0.996 -1.0 -1.0 -1.0 -1.0  \n",
      "370  -0.060  0.776  1.000  0.709 -0.053 -0.861 -1.0 -1.0 -1.0 -1.0  \n",
      "4751 -0.475 -0.401 -0.091 -0.475 -0.475 -0.480 -1.0 -1.0 -1.0 -1.0  \n",
      "1852 -0.263 -0.740 -1.000 -1.000 -1.000 -1.000 -1.0 -1.0 -1.0 -1.0  \n",
      "3582  1.000  1.000  1.000  0.191 -0.831 -1.000 -1.0 -1.0 -1.0 -1.0  \n",
      "...     ...    ...    ...    ...    ...    ...  ...  ...  ...  ...  \n",
      "1791 -0.683  0.699 -1.000 -1.000 -1.000 -1.000 -1.0 -1.0 -1.0 -1.0  \n",
      "6728 -1.000 -0.456  0.883  0.074 -0.939 -1.000 -1.0 -1.0 -1.0 -1.0  \n",
      "2969 -0.374  0.641 -0.929 -1.000 -1.000 -1.000 -1.0 -1.0 -1.0 -1.0  \n",
      "3448 -1.000 -1.000 -0.532  0.439 -1.000 -1.000 -1.0 -1.0 -1.0 -1.0  \n",
      "3381 -1.000 -0.838  0.848  0.639  0.418 -0.610 -1.0 -1.0 -1.0 -1.0  \n",
      "\n",
      "[2000 rows x 257 columns]\n",
      "      0    1    2      3      4      5      6      7      8      9    ...  \\\n",
      "7068 -1.0 -1.0 -1.0 -1.000 -1.000 -1.000 -1.000 -1.000 -0.969  0.305  ...   \n",
      "370  -1.0 -1.0 -1.0 -1.000 -1.000 -1.000 -1.000 -0.878 -0.074  0.977  ...   \n",
      "4751 -1.0 -1.0 -1.0 -1.000 -0.951 -0.452  0.201  0.201  0.199 -0.469  ...   \n",
      "1852 -1.0 -1.0 -1.0 -0.663 -0.263 -0.477 -1.000 -1.000 -1.000 -1.000  ...   \n",
      "3582 -1.0 -1.0 -1.0 -1.000 -1.000 -1.000 -0.904 -0.004  0.291  0.967  ...   \n",
      "...   ...  ...  ...    ...    ...    ...    ...    ...    ...    ...  ...   \n",
      "1791  1.0 -1.0 -1.0 -1.000 -1.000 -1.000 -1.000 -0.477  0.813  1.000  ...   \n",
      "6728  1.0 -1.0 -1.0 -1.000 -1.000 -1.000 -1.000 -1.000 -0.939 -0.320  ...   \n",
      "2969  1.0 -1.0 -1.0 -1.000 -1.000 -1.000 -0.864 -0.043  0.544  0.759  ...   \n",
      "3448  1.0 -1.0 -1.0 -1.000 -1.000 -1.000 -1.000 -1.000 -0.870  0.520  ...   \n",
      "3381  1.0 -1.0 -1.0 -0.947 -0.362 -0.020  0.418  0.905  1.000  1.000  ...   \n",
      "\n",
      "        247    248    249    250    251    252  253  254  255  256  \n",
      "7068 -0.955 -0.092  0.841  0.697 -0.019 -0.996 -1.0 -1.0 -1.0 -1.0  \n",
      "370  -0.060  0.776  1.000  0.709 -0.053 -0.861 -1.0 -1.0 -1.0 -1.0  \n",
      "4751 -0.475 -0.401 -0.091 -0.475 -0.475 -0.480 -1.0 -1.0 -1.0 -1.0  \n",
      "1852 -0.263 -0.740 -1.000 -1.000 -1.000 -1.000 -1.0 -1.0 -1.0 -1.0  \n",
      "3582  1.000  1.000  1.000  0.191 -0.831 -1.000 -1.0 -1.0 -1.0 -1.0  \n",
      "...     ...    ...    ...    ...    ...    ...  ...  ...  ...  ...  \n",
      "1791 -0.683  0.699 -1.000 -1.000 -1.000 -1.000 -1.0 -1.0 -1.0 -1.0  \n",
      "6728 -1.000 -0.456  0.883  0.074 -0.939 -1.000 -1.0 -1.0 -1.0 -1.0  \n",
      "2969 -0.374  0.641 -0.929 -1.000 -1.000 -1.000 -1.0 -1.0 -1.0 -1.0  \n",
      "3448 -1.000 -1.000 -0.532  0.439 -1.000 -1.000 -1.0 -1.0 -1.0 -1.0  \n",
      "3381 -1.000 -0.838  0.848  0.639  0.418 -0.610 -1.0 -1.0 -1.0 -1.0  \n",
      "\n",
      "[2000 rows x 257 columns]\n"
     ]
    }
   ],
   "source": [
    "print(df_usps_sample)\n",
    "for i in range(df_usps_sample.shape[0]):\n",
    "    if df_usps_sample.iloc[i,0] <=4:\n",
    "        df_usps_sample.iloc[i,0] = -1\n",
    "    else:\n",
    "        df_usps_sample.iloc[i,0] = 1\n",
    "print(df_usps_sample)"
   ]
  },
  {
   "cell_type": "code",
   "execution_count": 105,
   "metadata": {},
   "outputs": [],
   "source": [
    "'''dataframe_file = [partition,df_usps_sample, df_usps_modified_test]\n",
    "with open('usbs_databases', 'wb') as fp:\n",
    "    pickle.dump(dataframe_file, fp)'''\n",
    "\n",
    "for i in range(0,len(partition)):\n",
    "    for j in range(partition[i].shape[0]):\n",
    "        if partition[i].iloc[j,0] <=4:\n",
    "            partition[i].iloc[j,0] = -1\n",
    "        else:\n",
    "            partition[i].iloc[j,0] = 1\n"
   ]
  },
  {
   "cell_type": "code",
   "execution_count": 106,
   "metadata": {},
   "outputs": [],
   "source": [
    "dataframe_file = [partition,df_usps_sample, df_usps_modified_test]\n",
    "with open('usbs_databases', 'wb') as fp:\n",
    "    pickle.dump(dataframe_file, fp)"
   ]
  },
  {
   "cell_type": "code",
   "execution_count": null,
   "metadata": {},
   "outputs": [],
   "source": []
  }
 ],
 "metadata": {
  "kernelspec": {
   "display_name": "Python 3",
   "language": "python",
   "name": "python3"
  },
  "language_info": {
   "codemirror_mode": {
    "name": "ipython",
    "version": 3
   },
   "file_extension": ".py",
   "mimetype": "text/x-python",
   "name": "python",
   "nbconvert_exporter": "python",
   "pygments_lexer": "ipython3",
   "version": "3.7.3"
  }
 },
 "nbformat": 4,
 "nbformat_minor": 2
}
