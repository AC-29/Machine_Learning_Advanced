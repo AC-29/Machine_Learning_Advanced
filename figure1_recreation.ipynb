{
 "cells": [
  {
   "cell_type": "code",
   "execution_count": 1,
   "metadata": {},
   "outputs": [],
   "source": [
    "import numpy as np\n",
    "from sklearn import svm\n",
    "from sklearn.mixture import GaussianMixture as gmm\n",
    "import matplotlib.pyplot as plt\n",
    "from scipy.stats import multivariate_normal\n",
    "import random"
   ]
  },
  {
   "cell_type": "code",
   "execution_count": 2,
   "metadata": {},
   "outputs": [],
   "source": [
    "#generate the data\n",
    "np.random.seed(1)\n",
    "mean_1=np.array([1,1])\n",
    "cov_1 = np.array([[1,0],[0,5]])\n",
    "data_1 = np.random.multivariate_normal(mean_1,cov_1,100)\n",
    "\n",
    "mean_2=np.array([-5,1])\n",
    "cov_2 = np.array([[1,0],[0,5]])\n",
    "data_2 = np.random.multivariate_normal(mean_2,cov_2,100)\n"
   ]
  },
  {
   "cell_type": "code",
   "execution_count": 3,
   "metadata": {},
   "outputs": [
    {
     "data": {
      "image/png": "[encoded data removed]",
      "text/plain": [
       "<Figure size 432x288 with 1 Axes>"
      ]
     },
     "metadata": {
      "needs_background": "light"
     },
     "output_type": "display_data"
    }
   ],
   "source": [
    "#visualize\n",
    "\n",
    "plt.scatter(data_1[:,0],data_1[:,1],color = 'red', label ='cluster A')\n",
    "plt.scatter(data_2[:,0],data_2[:,1],color ='green', label = 'cluster B')\n",
    "plt.legend()\n",
    "plt.show()"
   ]
  },
  {
   "cell_type": "code",
   "execution_count": 4,
   "metadata": {},
   "outputs": [
    {
     "data": {
      "text/plain": [
       "GaussianMixture(covariance_type='full', init_params='kmeans', max_iter=100,\n",
       "                means_init=None, n_components=2, n_init=1, precisions_init=None,\n",
       "                random_state=None, reg_covar=1e-06, tol=0.001, verbose=0,\n",
       "                verbose_interval=10, warm_start=False, weights_init=None)"
      ]
     },
     "execution_count": 4,
     "metadata": {},
     "output_type": "execute_result"
    }
   ],
   "source": [
    "#run EM mixture model\n",
    "em = gmm(n_components=2) \n",
    "total_data = np.concatenate((data_1,data_2),axis=0)\n",
    "em.fit(total_data)"
   ]
  },
  {
   "cell_type": "code",
   "execution_count": 5,
   "metadata": {},
   "outputs": [
    {
     "name": "stdout",
     "output_type": "stream",
     "text": [
      "EM means: [[ 0.98888854  1.50745425]\n",
      " [-4.93112983  0.83000007]]\n",
      "EM cov: [[[ 0.88542891 -0.25767387]\n",
      "  [-0.25767387  3.69237505]]\n",
      "\n",
      " [[ 1.02589299 -0.23909752]\n",
      "  [-0.23909752  5.5887969 ]]]\n"
     ]
    }
   ],
   "source": [
    "#print its parameters\n",
    "print('EM means:', em.means_)\n",
    "print('EM cov:', em.covariances_)"
   ]
  },
  {
   "cell_type": "code",
   "execution_count": 6,
   "metadata": {},
   "outputs": [],
   "source": [
    "#create kernel matrix\n",
    "weights,means,covariances = em.weights_, em.means_, em.covariances_\n",
    "def get_responsibility_matrix(data,em): #this gives me the whole responsibility matrix\n",
    "    weights,means,covariances = em.weights_, em.means_, em.covariances_\n",
    "    N = data.shape[0]\n",
    "    K = means.shape[0]\n",
    "    result = np.zeros((N,K))\n",
    "    \n",
    "    for i in range(0, N):\n",
    "        denom = 0\n",
    "        for j in range(0,K):\n",
    "            result[i][j] = weights[j] * multivariate_normal(means[j],covariances[j]).pdf(data[i])\n",
    "            denom += result[i][j]\n",
    "        result[i] = result[i]/denom\n",
    "    return result\n",
    "\n",
    "def create_Marginilized_Kernel(data,em,responsibility): #gives me the whole kernel matrix\n",
    "    covariances = em.covariances_\n",
    "    N = data.shape[0]\n",
    "    K = covariances.shape[0]\n",
    "    result = np.zeros((N,N))\n",
    "    for i in range(0,N):\n",
    "        for j in range(0,N):\n",
    "            \n",
    "            for q in range(0,K):\n",
    "                result[i][j] += responsibility[i][q] * responsibility[j][q] * np.dot(data[i], np.dot(np.linalg.inv(covariances[q]),data[j]))\n",
    "    return result\n",
    "\n",
    "r = get_responsibility_matrix(total_data,em)\n",
    "\n",
    "def responsibility(x,q): #gives me the singular responsibility r[x][q]\n",
    "    denom = 0\n",
    "    K = weights.shape[0]\n",
    "    result = np.zeros(K)\n",
    "    for j in range(0,K):\n",
    "        \n",
    "        result[j] = weights[j] * multivariate_normal(means[j],covariances[j]).pdf(x)\n",
    "        denom += result[j]\n",
    "    result = result/denom\n",
    "    return result[q]\n",
    "    \n",
    "def marginilized_Kernel(x,y): #gives me the singular kernel element K(x,y)\n",
    "    covariances = em.covariances_\n",
    "    K = covariances.shape[0]\n",
    "    \n",
    "    result = 0\n",
    "    \n",
    "    for q in range(0,K):\n",
    "        result += responsibility(x,q) * responsibility(y,q) * np.dot(x, np.dot(np.linalg.inv(covariances[q]),y))\n",
    "    return result\n"
   ]
  },
  {
   "cell_type": "code",
   "execution_count": 7,
   "metadata": {},
   "outputs": [
    {
     "name": "stdout",
     "output_type": "stream",
     "text": [
      "[[ 6.39469022e+00 -2.97307587e-01  2.75045681e+00 ... -1.34764325e-06\n",
      "  -1.74552953e-06 -1.65085545e-03]\n",
      " [-2.97307587e-01  1.73218673e-02 -3.52621696e-02 ...  9.49119212e-06\n",
      "   1.09271618e-05  3.36779413e-04]\n",
      " [ 2.75045681e+00 -3.52621696e-02  3.63467480e+00 ...  4.91825939e-02\n",
      "   3.70384947e-02  4.96820430e-02]\n",
      " ...\n",
      " [-1.34764325e-06  9.49119212e-06  4.91825939e-02 ...  1.81669182e+01\n",
      "   1.84172811e+01  1.17265709e+01]\n",
      " [-1.74552953e-06  1.09271618e-05  3.70384947e-02 ...  1.84172811e+01\n",
      "   1.93179302e+01  1.12882422e+01]\n",
      " [-1.65085545e-03  3.36779413e-04  4.96820430e-02 ...  1.17265709e+01\n",
      "   1.12882422e+01  8.12584374e+00]]\n"
     ]
    }
   ],
   "source": [
    "# compute the kernel\n",
    "\n",
    "r = get_responsibility_matrix(total_data,em)\n",
    "kernel = create_Marginilized_Kernel(total_data,em,r)\n",
    "\n",
    "print(kernel)"
   ]
  },
  {
   "cell_type": "code",
   "execution_count": 8,
   "metadata": {},
   "outputs": [
    {
     "name": "stdout",
     "output_type": "stream",
     "text": [
      "[[-6.76068856 -1.97833447]\n",
      " [-4.67572576  2.30730956]]\n",
      "[ 0.00297317 -0.15625836]\n"
     ]
    }
   ],
   "source": [
    "# pick three examples\n",
    "\n",
    "#pick two from green:\n",
    "np.random.seed(1)\n",
    "a = np.arange(data_2.shape[0])\n",
    "np.random.shuffle(a)\n",
    "\n",
    "two_examples = data_2[a[:2]]\n",
    "two_examples[0] = data_2[2]\n",
    "#pick one from red\n",
    "other_example = data_1[a[0]]\n",
    "\n",
    "print(two_examples)\n",
    "print(other_example)"
   ]
  },
  {
   "cell_type": "code",
   "execution_count": 9,
   "metadata": {},
   "outputs": [
    {
     "data": {
      "image/png": "[encoded data removed]",
      "text/plain": [
       "<Figure size 432x288 with 1 Axes>"
      ]
     },
     "metadata": {
      "needs_background": "light"
     },
     "output_type": "display_data"
    }
   ],
   "source": [
    "#visualize them\n",
    "\n",
    "plt.scatter(two_examples[:,0],two_examples[:,1],color = 'red', label ='cluster B')\n",
    "plt.scatter(other_example[0],other_example[1],color = 'red', label ='cluster A')\n",
    "plt.show()"
   ]
  },
  {
   "cell_type": "code",
   "execution_count": 10,
   "metadata": {},
   "outputs": [
    {
     "name": "stdout",
     "output_type": "stream",
     "text": [
      "[[-6.76068856e+00 -1.97833447e+00]\n",
      " [ 2.97317235e-03 -1.56258359e-01]]\n"
     ]
    },
    {
     "data": {
      "image/png": "[encoded data removed]",
      "text/plain": [
       "<Figure size 432x288 with 1 Axes>"
      ]
     },
     "metadata": {
      "needs_background": "light"
     },
     "output_type": "display_data"
    }
   ],
   "source": [
    "positive = np.concatenate(([two_examples[0]],[other_example]),axis=0)\n",
    "negative= two_examples[1]\n",
    "print(positive)\n",
    "#visualize examples\n",
    "\n",
    "plt.scatter(positive[:,0],positive[:,1],color = 'green', label ='+')\n",
    "plt.scatter(negative[0],negative[1],color = 'red', label ='-')\n",
    "plt.legend()\n",
    "plt.show()"
   ]
  },
  {
   "cell_type": "code",
   "execution_count": 11,
   "metadata": {},
   "outputs": [],
   "source": [
    "#train svm \n",
    "X = np.concatenate((positive,[negative]),axis=0)\n",
    "y = np.array([1,1,-1])\n",
    "\n",
    "def precomputed_Matrix(X1, X2, K_function=marginilized_Kernel):\n",
    "\n",
    "    gram_matrix = np.zeros((X1.shape[0], X2.shape[0]))\n",
    "    for i, x1 in enumerate(X1):\n",
    "        for j, x2 in enumerate(X2):\n",
    "            x1=x1.flatten()\n",
    "            x2=x2.flatten()\n",
    "            gram_matrix[i, j] = K_function(x1, x2)\n",
    "    return gram_matrix"
   ]
  },
  {
   "cell_type": "code",
   "execution_count": 16,
   "metadata": {},
   "outputs": [
    {
     "name": "stdout",
     "output_type": "stream",
     "text": [
      "{'C': 100, 'cache_size': 200, 'class_weight': None, 'coef0': 0.0, 'decision_function_shape': 'ovr', 'degree': 3, 'gamma': 'auto_deprecated', 'kernel': 'precomputed', 'max_iter': -1, 'probability': False, 'random_state': None, 'shrinking': True, 'tol': 0.001, 'verbose': False}\n",
      "[-0.86054754  0.55180699  0.30874055]\n",
      "[2 0 1]\n",
      "[0.99822237]\n"
     ]
    }
   ],
   "source": [
    "from sklearn import svm\n",
    "'''clf = svm.SVC(kernel='linear',C=100)\n",
    "clf.fit(svm_data,y_targets)\n",
    "'''\n",
    "clf = svm.SVC(kernel=\"precomputed\", C=100)\n",
    "gram = precomputed_Matrix(X,X)\n",
    "clf.fit(gram,y)\n",
    "#clf = svm.SVC(kernel =my_Kernel(em))\n",
    "#clf.fit(X,y)\n",
    "print(clf.get_params())\n",
    "a = clf.dual_coef_[0]\n",
    "sup = clf.support_\n",
    "print(a)\n",
    "print(sup)\n",
    "b = clf.intercept_\n",
    "print(b)\n",
    "#clf.score(data_1,np.ones(data_1.shape[0]))"
   ]
  },
  {
   "cell_type": "code",
   "execution_count": 17,
   "metadata": {},
   "outputs": [],
   "source": [
    "#define indicator with kernel\n",
    "def indicator(x,y):\n",
    "    sup_vects = X[sup]\n",
    "    kern = precomputed_Matrix(np.array([[x,y]]),sup_vects)\n",
    "    result = np.dot(a,kern.T) + b # indicator(x) = <a,K(x,s)> + b\n",
    "    return result\n"
   ]
  },
  {
   "cell_type": "code",
   "execution_count": 18,
   "metadata": {},
   "outputs": [
    {
     "name": "stdout",
     "output_type": "stream",
     "text": [
      "<numpy.vectorize object at 0x000002D802D06A58>\n"
     ]
    },
    {
     "data": {
      "image/png": "[encoded data removed]",
      "text/plain": [
       "<Figure size 432x288 with 1 Axes>"
      ]
     },
     "metadata": {
      "needs_background": "light"
     },
     "output_type": "display_data"
    }
   ],
   "source": [
    "# visualize boundary \n",
    "\n",
    "\n",
    "plt.scatter(data_1[:,0],data_1[:,1],color = 'grey')\n",
    "plt.scatter(data_2[:,0],data_2[:,1],color ='grey')\n",
    "\n",
    "plt.scatter(X[:, 0], X[:, 1], c=y, s=30, cmap=plt.cm.Paired)\n",
    "\n",
    "\n",
    "# plot the decision function\n",
    "ax = plt.gca()\n",
    "xlim = ax.get_xlim()\n",
    "ylim = ax.get_ylim()\n",
    "\n",
    "# create grid to evaluate model\n",
    "xx = np.linspace(-8, 3, 30)\n",
    "yy = np.linspace(-6, 8, 30)\n",
    "YY, XX = np.meshgrid(yy, xx)\n",
    "xy = np.vstack([XX.ravel(), YY.ravel()]).T\n",
    "#Z = clf.decision_function(xy).reshape(XX.shape)\n",
    "Z = np.vectorize(indicator)\n",
    "print(Z)\n",
    "# plot decision boundary and margins\n",
    "ax.contour(XX, YY, Z(XX,YY), colors='k', levels=[0], alpha=0.5)\n",
    "plt.show()"
   ]
  },
  {
   "cell_type": "code",
   "execution_count": 19,
   "metadata": {},
   "outputs": [],
   "source": [
    "\n",
    "# this is an alternate way of defining my kernel ('in a more compact manner')\n",
    "def my_Kernel(mixture):\n",
    "    weights,means,covariances = mixture.weights_, mixture.means_, mixture.covariances_\n",
    "    def responsibility(x,q):\n",
    "        denom = 0\n",
    "        K = weights.shape[0]\n",
    "        result = np.zeros(K)\n",
    "        for j in range(0,K):\n",
    "\n",
    "            result[j] = weights[j] * multivariate_normal(means[j],covariances[j]).pdf(x)\n",
    "            denom += result[j]\n",
    "        result = result/denom\n",
    "        return result[q]\n",
    "    \n",
    "    def marginilized_Kernel(x,y):\n",
    "        K = covariances.shape[0]\n",
    "        gram_matrix = np.zeros((x.shape[0], y.shape[0]))\n",
    "        for i, x1 in enumerate(x):\n",
    "            for j, x2 in enumerate(y):\n",
    "                for q in range(0,K):\n",
    "                    gram_matrix[i, j] += responsibility(x1,q) * responsibility(x2,q)*np.dot(x1, np.dot(np.linalg.inv(covariances[q]),x2))\n",
    "        print(gram_matrix)\n",
    "        return gram_matrix\n",
    "    \n",
    "    return marginilized_Kernel"
   ]
  },
  {
   "cell_type": "code",
   "execution_count": null,
   "metadata": {},
   "outputs": [],
   "source": []
  }
 ],
 "metadata": {
  "kernelspec": {
   "display_name": "Python 3",
   "language": "python",
   "name": "python3"
  },
  "language_info": {
   "codemirror_mode": {
    "name": "ipython",
    "version": 3
   },
   "file_extension": ".py",
   "mimetype": "text/x-python",
   "name": "python",
   "nbconvert_exporter": "python",
   "pygments_lexer": "ipython3",
   "version": "3.7.3"
  }
 },
 "nbformat": 4,
 "nbformat_minor": 2
}
